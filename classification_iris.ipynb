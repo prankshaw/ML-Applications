{
  "nbformat": 4,
  "nbformat_minor": 0,
  "metadata": {
    "colab": {
      "name": "classification_iris.ipynb",
      "version": "0.3.2",
      "provenance": [],
      "collapsed_sections": []
    },
    "kernelspec": {
      "name": "python3",
      "display_name": "Python 3"
    }
  },
  "cells": [
    {
      "metadata": {
        "id": "UzIvLvE01gJJ",
        "colab_type": "text"
      },
      "cell_type": "markdown",
      "source": [
        "# **Classification using iris data**"
      ]
    },
    {
      "metadata": {
        "id": "hi-pU9USDc03",
        "colab_type": "text"
      },
      "cell_type": "markdown",
      "source": [
        "## Algorithms\n",
        "\n",
        "\n",
        "*   Logisitic Regression\n",
        "*   Decesion Tree Classifier\n",
        "*   SVM\n",
        "\n",
        "## Machine learning library \n",
        "\n",
        "*   Scikit-learn\n",
        "\n",
        "## Datset\n",
        "\n",
        "*   iris data"
      ]
    },
    {
      "metadata": {
        "id": "ualp1Xcg2l0Z",
        "colab_type": "code",
        "colab": {}
      },
      "cell_type": "code",
      "source": [
        "# importing all the librairies\n",
        "from sklearn import datasets\n",
        "import pandas as pd\n",
        "from sklearn.model_selection import train_test_split\n",
        "from sklearn.linear_model import LogisticRegression\n",
        "from sklearn.tree import DecisionTreeClassifier\n",
        "from sklearn.svm import SVC\n",
        "import matplotlib.pyplot as plt\n",
        "from sklearn.metrics import accuracy_score\n",
        "\n",
        "\n"
      ],
      "execution_count": 0,
      "outputs": []
    },
    {
      "metadata": {
        "id": "7bIUyl2T4mTy",
        "colab_type": "code",
        "colab": {
          "base_uri": "https://localhost:8080/",
          "height": 221
        },
        "outputId": "cdfd412a-0e18-48f9-8117-79fa2bbbe4a6"
      },
      "cell_type": "code",
      "source": [
        "#about data\n",
        "\n",
        "print(X.shape)                            #to find rows and columns\n",
        "iris.feature_names\n",
        "df=pd.DataFrame(X,columns=['sepal length (cm)','sepal width (cm)','petal length (cm)','petal width (cm)'])\n",
        "df.head()                      # displaying first five rows of dataset\n",
        "#df.info()                      # giving details of all columns\n",
        "#df.describe()"
      ],
      "execution_count": 41,
      "outputs": [
        {
          "output_type": "stream",
          "text": [
            "(150, 4)\n"
          ],
          "name": "stdout"
        },
        {
          "output_type": "execute_result",
          "data": {
            "text/html": [
              "<div>\n",
              "<style scoped>\n",
              "    .dataframe tbody tr th:only-of-type {\n",
              "        vertical-align: middle;\n",
              "    }\n",
              "\n",
              "    .dataframe tbody tr th {\n",
              "        vertical-align: top;\n",
              "    }\n",
              "\n",
              "    .dataframe thead th {\n",
              "        text-align: right;\n",
              "    }\n",
              "</style>\n",
              "<table border=\"1\" class=\"dataframe\">\n",
              "  <thead>\n",
              "    <tr style=\"text-align: right;\">\n",
              "      <th></th>\n",
              "      <th>sepal length (cm)</th>\n",
              "      <th>sepal width (cm)</th>\n",
              "      <th>petal length (cm)</th>\n",
              "      <th>petal width (cm)</th>\n",
              "    </tr>\n",
              "  </thead>\n",
              "  <tbody>\n",
              "    <tr>\n",
              "      <th>0</th>\n",
              "      <td>5.1</td>\n",
              "      <td>3.5</td>\n",
              "      <td>1.4</td>\n",
              "      <td>0.2</td>\n",
              "    </tr>\n",
              "    <tr>\n",
              "      <th>1</th>\n",
              "      <td>4.9</td>\n",
              "      <td>3.0</td>\n",
              "      <td>1.4</td>\n",
              "      <td>0.2</td>\n",
              "    </tr>\n",
              "    <tr>\n",
              "      <th>2</th>\n",
              "      <td>4.7</td>\n",
              "      <td>3.2</td>\n",
              "      <td>1.3</td>\n",
              "      <td>0.2</td>\n",
              "    </tr>\n",
              "    <tr>\n",
              "      <th>3</th>\n",
              "      <td>4.6</td>\n",
              "      <td>3.1</td>\n",
              "      <td>1.5</td>\n",
              "      <td>0.2</td>\n",
              "    </tr>\n",
              "    <tr>\n",
              "      <th>4</th>\n",
              "      <td>5.0</td>\n",
              "      <td>3.6</td>\n",
              "      <td>1.4</td>\n",
              "      <td>0.2</td>\n",
              "    </tr>\n",
              "  </tbody>\n",
              "</table>\n",
              "</div>"
            ],
            "text/plain": [
              "   sepal length (cm)  sepal width (cm)  petal length (cm)  petal width (cm)\n",
              "0                5.1               3.5                1.4               0.2\n",
              "1                4.9               3.0                1.4               0.2\n",
              "2                4.7               3.2                1.3               0.2\n",
              "3                4.6               3.1                1.5               0.2\n",
              "4                5.0               3.6                1.4               0.2"
            ]
          },
          "metadata": {
            "tags": []
          },
          "execution_count": 41
        }
      ]
    },
    {
      "metadata": {
        "id": "mWNIJmsv5fl-",
        "colab_type": "code",
        "colab": {
          "base_uri": "https://localhost:8080/",
          "height": 34
        },
        "outputId": "a4b742e0-3abb-4db7-afbe-09eb08b5e373"
      },
      "cell_type": "code",
      "source": [
        "# splitting training and testing dataset(80percent as training and 20 percent as testing)\n",
        "\n",
        "X_train, X_test, y_train, y_test = train_test_split(X, y, test_size=0.25,random_state=0)\n",
        "print(\"Training and testing split was successful.\")\n",
        "\n"
      ],
      "execution_count": 42,
      "outputs": [
        {
          "output_type": "stream",
          "text": [
            "Training and testing split was successful.\n"
          ],
          "name": "stdout"
        }
      ]
    },
    {
      "metadata": {
        "id": "MttXTrnS4695",
        "colab_type": "code",
        "colab": {
          "base_uri": "https://localhost:8080/",
          "height": 122
        },
        "outputId": "0dec06c1-4ad6-49ac-97b5-1dcbce683da7"
      },
      "cell_type": "code",
      "source": [
        "model = LogisticRegression()             # intialising the model using logistic regression\n",
        "model.fit(X_train,y_train)\n",
        "pred=model.predict(X_test)\n",
        "\n",
        "acc = accuracy_score(y_test,pred)                # evaluating the model\n",
        "print(\"ACCURACY SCORE OF LOGISITC REGRESSION IS \",acc)\n"
      ],
      "execution_count": 43,
      "outputs": [
        {
          "output_type": "stream",
          "text": [
            "ACCURACY SCORE OF LOGISITC REGRESSION IS  0.868421052631579\n"
          ],
          "name": "stdout"
        },
        {
          "output_type": "stream",
          "text": [
            "/usr/local/lib/python3.6/dist-packages/sklearn/linear_model/logistic.py:433: FutureWarning: Default solver will be changed to 'lbfgs' in 0.22. Specify a solver to silence this warning.\n",
            "  FutureWarning)\n",
            "/usr/local/lib/python3.6/dist-packages/sklearn/linear_model/logistic.py:460: FutureWarning: Default multi_class will be changed to 'auto' in 0.22. Specify the multi_class option to silence this warning.\n",
            "  \"this warning.\", FutureWarning)\n"
          ],
          "name": "stderr"
        }
      ]
    },
    {
      "metadata": {
        "id": "Jh2FZ6Sy7vok",
        "colab_type": "code",
        "colab": {
          "base_uri": "https://localhost:8080/",
          "height": 34
        },
        "outputId": "2598dcaa-286c-4d91-c79c-23bf9cca972c"
      },
      "cell_type": "code",
      "source": [
        "model = DecisionTreeClassifier()             # intialising the Decision tree classifier model\n",
        "model.fit(X_train,y_train)\n",
        "pred=model.predict(X_test)\n",
        "\n",
        "acc = accuracy_score(y_test,pred)                # evaluating the model\n",
        "print(\"ACCURACY SCORE OF DECSION TREE CLASSIFIER IS \",acc)"
      ],
      "execution_count": 44,
      "outputs": [
        {
          "output_type": "stream",
          "text": [
            "ACCURACY SCORE OF DECSION TREE CLASSIFIER IS  0.9736842105263158\n"
          ],
          "name": "stdout"
        }
      ]
    },
    {
      "metadata": {
        "id": "PsnN7wrE9-wP",
        "colab_type": "code",
        "colab": {
          "base_uri": "https://localhost:8080/",
          "height": 34
        },
        "outputId": "7d460ffb-b123-4183-a1c8-5abf4918a795"
      },
      "cell_type": "code",
      "source": [
        "model = SVC(kernel='linear')             # intialising the Decision tree classifier model\n",
        "model.fit(X_train,y_train)\n",
        "pred=model.predict(X_test)\n",
        "\n",
        "acc = accuracy_score(y_test,pred)                # evaluating the model\n",
        "print(\"ACCURACY SCORE OF SVC IS \",acc)\n"
      ],
      "execution_count": 45,
      "outputs": [
        {
          "output_type": "stream",
          "text": [
            "ACCURACY SCORE OF SVC IS  0.9736842105263158\n"
          ],
          "name": "stdout"
        }
      ]
    },
    {
      "metadata": {
        "id": "Uc9rCpQWqheW",
        "colab_type": "code",
        "colab": {}
      },
      "cell_type": "code",
      "source": [
        ""
      ],
      "execution_count": 0,
      "outputs": []
    }
  ]
}