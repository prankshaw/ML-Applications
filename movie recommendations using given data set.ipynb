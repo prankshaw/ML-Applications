{
 "cells": [
  {
   "cell_type": "code",
   "execution_count": 4,
   "metadata": {},
   "outputs": [],
   "source": [
    "import numpy as np\n",
    "from lightfm.datasets import fetch_movielens\n",
    "from lightfm import LightFM"
   ]
  },
  {
   "cell_type": "code",
   "execution_count": 19,
   "metadata": {},
   "outputs": [],
   "source": [
    "data =fetch_movielens(min_rating=3.0)"
   ]
  },
  {
   "cell_type": "code",
   "execution_count": 20,
   "metadata": {},
   "outputs": [
    {
     "name": "stdout",
     "output_type": "stream",
     "text": [
      "<943x1682 sparse matrix of type '<class 'numpy.int32'>'\n",
      "\twith 74627 stored elements in COOrdinate format>\n"
     ]
    }
   ],
   "source": [
    "print(repr(data['train']))"
   ]
  },
  {
   "cell_type": "code",
   "execution_count": 21,
   "metadata": {},
   "outputs": [
    {
     "name": "stdout",
     "output_type": "stream",
     "text": [
      "<943x1682 sparse matrix of type '<class 'numpy.int32'>'\n",
      "\twith 7893 stored elements in COOrdinate format>\n"
     ]
    }
   ],
   "source": [
    "print(repr(data['test']))"
   ]
  },
  {
   "cell_type": "code",
   "execution_count": 27,
   "metadata": {},
   "outputs": [],
   "source": [
    "#model\n",
    "model = LightFM(loss='warp')  # for hybrid approach collaborative + content-based reccomendation"
   ]
  },
  {
   "cell_type": "code",
   "execution_count": 23,
   "metadata": {},
   "outputs": [
    {
     "data": {
      "text/plain": [
       "<lightfm.lightfm.LightFM at 0x268b3392898>"
      ]
     },
     "execution_count": 23,
     "metadata": {},
     "output_type": "execute_result"
    }
   ],
   "source": [
    "model.fit(data['train'], epochs=30,num_threads=2)"
   ]
  },
  {
   "cell_type": "code",
   "execution_count": 24,
   "metadata": {},
   "outputs": [],
   "source": [
    "def recommmender(model, data, user_ids):\n",
    "    n_users,n_items=data['train'].shape\n",
    "    for user_id in user_ids:\n",
    "        known_positives =data['item_labels'][data['train'].tocsr()[user_id].indices]\n",
    "        # The above line helps to find the movies which user likes, which is being produced in form of sparse row format\n",
    "        # prediction\n",
    "        scores = model.predict(user_id,np.arange(n_items))\n",
    "        # sorting in descending order, higher the value, better it is to be liked by user\n",
    "        top_items= data['item_labels'][np.argsort(-scores)]\n",
    "        #printing results\n",
    "        print(\"User %s\" % user_id)\n",
    "        print(\"   Known positives:\")\n",
    "        # getting top 3\n",
    "        for x in known_positives[:3]:    \n",
    "            print(\"    %s\" %x)\n",
    "        print(\"   Recommended:\")    \n",
    "        \n",
    "        for x in top_items[:3]:\n",
    "            print(\"         %s\"  %x)\n",
    "            "
   ]
  },
  {
   "cell_type": "code",
   "execution_count": 25,
   "metadata": {},
   "outputs": [
    {
     "name": "stdout",
     "output_type": "stream",
     "text": [
      "user id 1- 88\n",
      "user id 2- 723\n",
      "user id 3- 645\n"
     ]
    }
   ],
   "source": [
    "# getting 3 random ser id\n",
    "a=input(\"user id 1- \")\n",
    "b=input(\"user id 2- \")\n",
    "c=input(\"user id 3- \")"
   ]
  },
  {
   "cell_type": "code",
   "execution_count": 26,
   "metadata": {},
   "outputs": [
    {
     "name": "stdout",
     "output_type": "stream",
     "text": [
      "User 88\n",
      "   Known positives:\n",
      "    Toy Story (1995)\n",
      "    Twelve Monkeys (1995)\n",
      "    Postino, Il (1994)\n",
      "   Recommended:\n",
      "         Sense and Sensibility (1995)\n",
      "         Emma (1996)\n",
      "         Jerry Maguire (1996)\n",
      "User 723\n",
      "   Known positives:\n",
      "    Contact (1997)\n",
      "    Mimic (1997)\n",
      "    Chasing Amy (1997)\n",
      "   Recommended:\n",
      "         Air Force One (1997)\n",
      "         Seven Years in Tibet (1997)\n",
      "         Conspiracy Theory (1997)\n",
      "User 645\n",
      "   Known positives:\n",
      "    George of the Jungle (1997)\n",
      "    Good Will Hunting (1997)\n",
      "    English Patient, The (1996)\n",
      "   Recommended:\n",
      "         Seven Years in Tibet (1997)\n",
      "         Air Force One (1997)\n",
      "         Conspiracy Theory (1997)\n"
     ]
    }
   ],
   "source": [
    "recommmender(model, data, [a,b,c])"
   ]
  },
  {
   "cell_type": "code",
   "execution_count": null,
   "metadata": {},
   "outputs": [],
   "source": []
  }
 ],
 "metadata": {
  "kernelspec": {
   "display_name": "Python 3",
   "language": "python",
   "name": "python3"
  },
  "language_info": {
   "codemirror_mode": {
    "name": "ipython",
    "version": 3
   },
   "file_extension": ".py",
   "mimetype": "text/x-python",
   "name": "python",
   "nbconvert_exporter": "python",
   "pygments_lexer": "ipython3",
   "version": "3.7.3"
  }
 },
 "nbformat": 4,
 "nbformat_minor": 2
}
